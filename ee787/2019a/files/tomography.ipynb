{
 "cells": [
  {
   "cell_type": "markdown",
   "metadata": {},
   "source": [
    "# Tomography\n",
    "$$\n",
    "\\newcommand{\\eg}{{\\it e.g.}}\n",
    "\\newcommand{\\ie}{{\\it i.e.}}\n",
    "\\newcommand{\\argmin}{\\operatornamewithlimits{argmin}}\n",
    "\\newcommand{\\mc}{\\mathcal}\n",
    "\\newcommand{\\mb}{\\mathbb}\n",
    "\\newcommand{\\mf}{\\mathbf}\n",
    "\\newcommand{\\minimize}{{\\text{minimize}}}\n",
    "\\newcommand{\\diag}{{\\text{diag}}}\n",
    "\\newcommand{\\cond}{{\\text{cond}}}\n",
    "\\newcommand{\\rank}{{\\text{rank }}}\n",
    "\\newcommand{\\range}{{\\mathcal{R}}}\n",
    "\\newcommand{\\null}{{\\mathcal{N}}}\n",
    "\\newcommand{\\tr}{{\\text{trace}}}\n",
    "\\newcommand{\\dom}{{\\text{dom}}}\n",
    "\\newcommand{\\dist}{{\\text{dist}}}\n",
    "\\newcommand{\\R}{\\mathbf{R}}\n",
    "\\newcommand{\\SM}{\\mathbf{S}}\n",
    "\\newcommand{\\ball}{\\mathcal{B}}\n",
    "\\newcommand{\\bmat}[1]{\\begin{bmatrix}#1\\end{bmatrix}}\n",
    "$$"
   ]
  },
  {
   "cell_type": "markdown",
   "metadata": {},
   "source": [
    "__<div style=\"text-align: right\"> EE787: Machine learning, Kyung Hee University. </div>__\n",
    "_<div style=\"text-align: right\"> Jong-Han Kim (jonghank@khu.ac.kr) </div>_"
   ]
  },
  {
   "cell_type": "code",
   "execution_count": 15,
   "metadata": {},
   "outputs": [
    {
     "name": "stdout",
     "output_type": "stream",
     "text": [
      "5184\n",
      "60\n",
      "(5184,)\n",
      "(5184,)\n",
      "(5184,)\n"
     ]
    }
   ],
   "source": [
    "using HTTP, JSON, PyPlot;\n",
    "using LinearAlgebra, SparseArrays;\n",
    "\n",
    "include(\"line_pixel_length.jl\");\n",
    "\n",
    "resp = HTTP.get(\"https://jonghank.github.io/ee787/files/tomodata_fullysampled.json\");\n",
    "#resp = HTTP.get(\"https://jonghank.github.io/ee787/files/tomodata_undersampled.json\");\n",
    "\n",
    "str = String(resp.body);\n",
    "jobj = JSON.Parser.parse(str);\n",
    "\n",
    "N = jobj[\"N\"][\"data\"];\n",
    "n_pixels = jobj[\"n_pixels\"][\"data\"];\n",
    "y = Float64.(jobj[\"y\"][\"data\"]);\n",
    "lines_d = Float64.(jobj[\"lines_d\"][\"data\"]);\n",
    "lines_theta = Float64.(jobj[\"lines_theta\"][\"data\"]);\n",
    "\n",
    "println(N)\n",
    "println(n_pixels)\n",
    "println(size(y))\n",
    "println(size(lines_d))\n",
    "println(size(lines_theta))"
   ]
  },
  {
   "cell_type": "code",
   "execution_count": 17,
   "metadata": {},
   "outputs": [],
   "source": [
    "# Dx and Dy for computing total variation function\n",
    "m = n_pixels;\n",
    "n = n_pixels;\n",
    "Dx = [spzeros(m*(n-1),m) I] - [I spzeros(m*(n-1),m)];\n",
    "Dy = kron(sparse(1I, n, n), diff(sparse(1I, m, m),dims=1));\n",
    "D = [Dx; Dy];"
   ]
  },
  {
   "cell_type": "markdown",
   "metadata": {},
   "source": [
    "The rest is for you..."
   ]
  },
  {
   "cell_type": "code",
   "execution_count": null,
   "metadata": {},
   "outputs": [],
   "source": [
    "# your code here"
   ]
  }
 ],
 "metadata": {
  "kernelspec": {
   "display_name": "Julia 1.1.1",
   "language": "julia",
   "name": "julia-1.1"
  },
  "language_info": {
   "file_extension": ".jl",
   "mimetype": "application/julia",
   "name": "julia",
   "version": "1.1.1"
  }
 },
 "nbformat": 4,
 "nbformat_minor": 2
}
